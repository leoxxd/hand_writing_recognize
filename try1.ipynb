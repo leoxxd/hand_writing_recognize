{
 "cells": [
  {
   "cell_type": "code",
   "execution_count": 1,
   "metadata": {},
   "outputs": [],
   "source": [
    "import torch\n",
    "import torchvision \n",
    "from tqdm import tqdm\n",
    "import matplotlib"
   ]
  },
  {
   "cell_type": "code",
   "execution_count": 2,
   "metadata": {},
   "outputs": [],
   "source": [
    "#如果网络能在GPU中训练，就使用GPU；否则使用CPU进行训练\n",
    "device = \"cuda:0\" if torch.cuda.is_available() else \"cpu\"\n",
    "\n",
    "#这个函数包括了两个操作：将图片转换为张量，以及将图片进行归一化处理\n",
    "transform = torchvision.transforms.Compose([torchvision.transforms.ToTensor(),\n",
    "                                torchvision.transforms.Normalize(mean = [0.5],std = [0.5])])"
   ]
  },
  {
   "cell_type": "code",
   "execution_count": 4,
   "metadata": {},
   "outputs": [],
   "source": [
    "path = r'E:\\handwriting_recognize\\DATASET/'  #数据集下载后保存的目录\n",
    "\n",
    "#下载训练集和测试集\n",
    "trainData = torchvision.datasets.MNIST(path,train = True,transform = transform,download = False)\n",
    "testData = torchvision.datasets.MNIST(path,train = False,transform = transform,download=False)"
   ]
  },
  {
   "cell_type": "code",
   "execution_count": 5,
   "metadata": {},
   "outputs": [],
   "source": [
    "#设定每一个Batch的大小\n",
    "BATCH_SIZE = 256  \n",
    "\n",
    "#构建数据集和测试集的DataLoader\n",
    "trainDataLoader = torch.utils.data.DataLoader(dataset = trainData,batch_size = BATCH_SIZE,shuffle = True)\n",
    "testDataLoader = torch.utils.data.DataLoader(dataset = testData,batch_size = BATCH_SIZE)"
   ]
  },
  {
   "cell_type": "code",
   "execution_count": 6,
   "metadata": {},
   "outputs": [],
   "source": [
    "class Net(torch.nn.Module):\n",
    "    def __init__(self):\n",
    "        super(Net,self).__init__()\n",
    "        self.model = torch.nn.Sequential(\n",
    "            #The size of the picture is 28x28\n",
    "            torch.nn.Conv2d(in_channels = 1,out_channels = 16,kernel_size = 3,stride = 1,padding = 1),\n",
    "            torch.nn.ReLU(),\n",
    "            torch.nn.MaxPool2d(kernel_size = 2,stride = 2),\n",
    "            \n",
    "            #The size of the picture is 14x14\n",
    "            torch.nn.Conv2d(in_channels = 16,out_channels = 32,kernel_size = 3,stride = 1,padding = 1),\n",
    "            torch.nn.ReLU(),\n",
    "            torch.nn.MaxPool2d(kernel_size = 2,stride = 2),\n",
    "            \n",
    "            #The size of the picture is 7x7\n",
    "            torch.nn.Conv2d(in_channels = 32,out_channels = 64,kernel_size = 3,stride = 1,padding = 1),\n",
    "            torch.nn.ReLU(),\n",
    "            \n",
    "            torch.nn.Flatten(),\n",
    "            torch.nn.Linear(in_features = 7 * 7 * 64,out_features = 128),\n",
    "            torch.nn.ReLU(),\n",
    "            torch.nn.Linear(in_features = 128,out_features = 10),\n",
    "            torch.nn.Softmax(dim=1)\n",
    "        )\n",
    "        \n",
    "    def forward(self,input):\n",
    "        output = self.model(input)\n",
    "        return output"
   ]
  },
  {
   "cell_type": "code",
   "execution_count": 7,
   "metadata": {},
   "outputs": [
    {
     "name": "stdout",
     "output_type": "stream",
     "text": [
      "Net(\n",
      "  (model): Sequential(\n",
      "    (0): Conv2d(1, 16, kernel_size=(3, 3), stride=(1, 1), padding=(1, 1))\n",
      "    (1): ReLU()\n",
      "    (2): MaxPool2d(kernel_size=2, stride=2, padding=0, dilation=1, ceil_mode=False)\n",
      "    (3): Conv2d(16, 32, kernel_size=(3, 3), stride=(1, 1), padding=(1, 1))\n",
      "    (4): ReLU()\n",
      "    (5): MaxPool2d(kernel_size=2, stride=2, padding=0, dilation=1, ceil_mode=False)\n",
      "    (6): Conv2d(32, 64, kernel_size=(3, 3), stride=(1, 1), padding=(1, 1))\n",
      "    (7): ReLU()\n",
      "    (8): Flatten(start_dim=1, end_dim=-1)\n",
      "    (9): Linear(in_features=3136, out_features=128, bias=True)\n",
      "    (10): ReLU()\n",
      "    (11): Linear(in_features=128, out_features=10, bias=True)\n",
      "    (12): Softmax(dim=1)\n",
      "  )\n",
      ")\n"
     ]
    }
   ],
   "source": [
    "net = Net()\n",
    "#将模型转换到device中，并将其结构显示出来\n",
    "print(net.to(device))  "
   ]
  },
  {
   "cell_type": "code",
   "execution_count": 8,
   "metadata": {},
   "outputs": [],
   "source": [
    "lossF = torch.nn.CrossEntropyLoss()\n",
    "optimizer = torch.optim.Adam(net.parameters())"
   ]
  },
  {
   "cell_type": "code",
   "execution_count": 9,
   "metadata": {},
   "outputs": [],
   "source": [
    "import time"
   ]
  },
  {
   "cell_type": "code",
   "execution_count": 10,
   "metadata": {},
   "outputs": [
    {
     "name": "stderr",
     "output_type": "stream",
     "text": [
      "[1/10] Loss: 1.4621, Acc: 0.9479, Test Loss: 1.5002, Test Acc: 0.9402: 100%|██████████| 235/235 [00:13<00:00, 17.91step/s]\n",
      "[2/10] Loss: 1.4612, Acc: 0.9792, Test Loss: 1.4827, Test Acc: 0.9557: 100%|██████████| 235/235 [00:07<00:00, 30.01step/s]\n",
      "[3/10] Loss: 1.4612, Acc: 0.9479, Test Loss: 1.4803, Test Acc: 0.9587: 100%|██████████| 235/235 [00:08<00:00, 26.73step/s]\n",
      "[4/10] Loss: 1.4612, Acc: 1.0000, Test Loss: 1.4760, Test Acc: 0.9627: 100%|██████████| 235/235 [00:09<00:00, 25.69step/s]\n",
      "[5/10] Loss: 1.4612, Acc: 0.9792, Test Loss: 1.4763, Test Acc: 0.9614: 100%|██████████| 235/235 [00:08<00:00, 27.16step/s]\n",
      "[6/10] Loss: 1.4612, Acc: 0.9896, Test Loss: 1.4740, Test Acc: 0.9640: 100%|██████████| 235/235 [00:09<00:00, 25.63step/s]\n",
      "[7/10] Loss: 1.4612, Acc: 0.9896, Test Loss: 1.4718, Test Acc: 0.9663: 100%|██████████| 235/235 [00:08<00:00, 27.55step/s]\n",
      "[8/10] Loss: 1.4612, Acc: 0.9792, Test Loss: 1.4731, Test Acc: 0.9651: 100%|██████████| 235/235 [00:07<00:00, 29.67step/s]\n",
      "[9/10] Loss: 1.4612, Acc: 1.0000, Test Loss: 1.4713, Test Acc: 0.9666: 100%|██████████| 235/235 [00:09<00:00, 25.91step/s]\n",
      "[10/10] Loss: 1.4612, Acc: 0.9896, Test Loss: 1.4719, Test Acc: 0.9654: 100%|██████████| 235/235 [00:09<00:00, 25.88step/s]"
     ]
    },
    {
     "name": "stdout",
     "output_type": "stream",
     "text": [
      "91.33856081962585\n"
     ]
    },
    {
     "name": "stderr",
     "output_type": "stream",
     "text": [
      "\n"
     ]
    }
   ],
   "source": [
    "EPOCHS = 10\n",
    "#存储训练过程\n",
    "history = {'Test Loss':[],'Test Accuracy':[]}\n",
    "start_time=time.time()\n",
    "for epoch in range(1,EPOCHS + 1):\n",
    "    processBar = tqdm(trainDataLoader,unit = 'step')\n",
    "    net.train(True)\n",
    "    for step,(trainImgs,labels) in enumerate(processBar):\n",
    "        trainImgs = trainImgs.to(device)\n",
    "        labels = labels.to(device)\n",
    "\n",
    "        net.zero_grad()\n",
    "        outputs = net(trainImgs)\n",
    "        loss = lossF(outputs,labels)\n",
    "        predictions = torch.argmax(outputs, dim = 1)\n",
    "        accuracy = torch.sum(predictions == labels)/labels.shape[0]\n",
    "        loss.backward()\n",
    "\n",
    "        optimizer.step()\n",
    "        processBar.set_description(\"[%d/%d] Loss: %.4f, Acc: %.4f\" % \n",
    "                                   (epoch,EPOCHS,loss.item(),accuracy.item()))\n",
    "        \n",
    "        if step == len(processBar)-1:\n",
    "            correct,totalLoss = 0,0\n",
    "            net.train(False)\n",
    "            for testImgs,labels in testDataLoader:\n",
    "                testImgs = testImgs.to(device)\n",
    "                labels = labels.to(device)\n",
    "                outputs = net(testImgs)\n",
    "                loss = lossF(outputs,labels)\n",
    "                predictions = torch.argmax(outputs,dim = 1)\n",
    "                \n",
    "                totalLoss += loss\n",
    "                correct += torch.sum(predictions == labels)\n",
    "            testAccuracy = correct/(BATCH_SIZE * len(testDataLoader))\n",
    "            testLoss = totalLoss/len(testDataLoader)\n",
    "            history['Test Loss'].append(testLoss.item())\n",
    "            history['Test Accuracy'].append(testAccuracy.item())\n",
    "            processBar.set_description(\"[%d/%d] Loss: %.4f, Acc: %.4f, Test Loss: %.4f, Test Acc: %.4f\" % \n",
    "                                   (epoch,EPOCHS,loss.item(),accuracy.item(),testLoss.item(),testAccuracy.item()))\n",
    "    processBar.close()\n",
    "end_time=time.time()\n",
    "print(end_time-start_time)"
   ]
  },
  {
   "cell_type": "code",
   "execution_count": 10,
   "metadata": {},
   "outputs": [
    {
     "data": {
      "image/png": "[encoded data removed]",
      "text/plain": [
       "<Figure size 640x480 with 1 Axes>"
      ]
     },
     "metadata": {},
     "output_type": "display_data"
    },
    {
     "data": {
      "image/png": "[encoded data removed]",
      "text/plain": [
       "<Figure size 640x480 with 1 Axes>"
      ]
     },
     "metadata": {},
     "output_type": "display_data"
    }
   ],
   "source": [
    "import matplotlib.pyplot as plt\n",
    "#对测试Loss进行可视化\n",
    "matplotlib.pyplot.plot(history['Test Loss'],label = 'Test Loss')\n",
    "matplotlib.pyplot.legend(loc='best')\n",
    "matplotlib.pyplot.grid(True)\n",
    "matplotlib.pyplot.xlabel('Epoch')\n",
    "matplotlib.pyplot.ylabel('Loss')\n",
    "matplotlib.pyplot.show()\n",
    "\n",
    "#对测试准确率进行可视化\n",
    "matplotlib.pyplot.plot(history['Test Accuracy'],color = 'red',label = 'Test Accuracy')\n",
    "matplotlib.pyplot.legend(loc='best')\n",
    "matplotlib.pyplot.grid(True)\n",
    "matplotlib.pyplot.xlabel('Epoch')\n",
    "matplotlib.pyplot.ylabel('Accuracy')\n",
    "matplotlib.pyplot.show()"
   ]
  },
  {
   "cell_type": "code",
   "execution_count": 16,
   "metadata": {},
   "outputs": [],
   "source": [
    "torch.save(net,'E:/handwriting_recognize/result_hwr/model1.pth')"
   ]
  },
  {
   "cell_type": "code",
   "execution_count": null,
   "metadata": {},
   "outputs": [],
   "source": []
  }
 ],
 "metadata": {
  "kernelspec": {
   "display_name": "hwrecognize",
   "language": "python",
   "name": "python3"
  },
  "language_info": {
   "codemirror_mode": {
    "name": "ipython",
    "version": 3
   },
   "file_extension": ".py",
   "mimetype": "text/x-python",
   "name": "python",
   "nbconvert_exporter": "python",
   "pygments_lexer": "ipython3",
   "version": "3.10.10"
  },
  "orig_nbformat": 4
 },
 "nbformat": 4,
 "nbformat_minor": 2
}
